{
 "cells": [
  {
   "cell_type": "markdown",
   "metadata": {},
   "source": [
    "# Advanced Raster Analysis"
   ]
  },
  {
   "cell_type": "markdown",
   "metadata": {},
   "source": [
    "## Learning objectives\n",
    "- Carry out a supervised classification on a SpatRaster\n",
    "- Construct a raster sieve using the patches() function\n",
    "- Deal with thematic (categorical maps)"
   ]
  },
  {
   "cell_type": "markdown",
   "metadata": {},
   "source": [
    "# Introduction to Sentinel-2 data used here\n",
    "\n",
    "We will carry out a supervised classification using Sentinel 2 data for the Gewata region in Ethiopia. To do this, we use atmospherically corrected Level 2A data acquired on December 27, 2020. These data were downloaded from ESA’s online data hub, a part of the Copernicus European Programme. As it is freely available, Sentinel data has been commonly used next to Landsat data for environmental monitoring.\n",
    "\n",
    "![Landsat.v.Sentinel-2](../figs/Landsat.v.Sentinel-2.jpg)"
   ]
  },
  {
   "cell_type": "markdown",
   "metadata": {},
   "source": [
    "# Notebook Setup"
   ]
  },
  {
   "cell_type": "code",
   "execution_count": null,
   "metadata": {},
   "outputs": [],
   "source": [
    "import os\n",
    "from pathlib import Path\n",
    "import matplotlib.pyplot as plt\n",
    "import seaborn as sns\n",
    "import numpy as np\n",
    "import pandas as pd\n",
    "import rioxarray as rxr\n",
    "import earthpy as et\n",
    "import earthpy.spatial as es\n",
    "import earthpy.plot as ep\n",
    "\n",
    "from scipy.stats import pearsonr"
   ]
  },
  {
   "cell_type": "code",
   "execution_count": null,
   "metadata": {},
   "outputs": [],
   "source": [
    "ROOT_DIR = Path(os.getcwd()).parent"
   ]
  },
  {
   "cell_type": "code",
   "execution_count": null,
   "metadata": {},
   "outputs": [],
   "source": [
    "raster_path = ROOT_DIR / 'S2B2A_T36NZP_20201227T075239_20m_gewata_crop.tif' # the path to your imagery (raster)\n",
    "bands_file_path = ROOT_DIR / \"S2B2A_T36NZP_20201227T075239_20m_gewata_bands.txt\""
   ]
  },
  {
   "cell_type": "markdown",
   "metadata": {},
   "source": [
    "# Data exploration\n",
    "Download the data to your computer and open your preferred R IDE to the directory of this tutorial.\n",
    "\n",
    "After downloading the data we begin with visualization. The data consists of all the Sentinel-2 bands at a spatial resolution (or pixel size) of 20 m, meaning that each pixel on the scene corresponds to a ground distance of 20 m by 20 m. We will also make use of training polygons for the land cover classification, which will be introduced later."
   ]
  },
  {
   "cell_type": "code",
   "execution_count": null,
   "metadata": {},
   "outputs": [],
   "source": [
    "with open(bands_file_path, \"r\") as f:\n",
    "    band_names = f.readlines()\n",
    "band_names = [name.strip() for name in band_names]\n",
    "\n",
    "gewata = rxr.open_rasterio(raster_path)\n",
    "gewata"
   ]
  },
  {
   "cell_type": "code",
   "execution_count": null,
   "metadata": {},
   "outputs": [],
   "source": [
    "# Convert DataArray to Dataset\n",
    "gewata_ds = gewata.to_dataset(dim=\"band\")\n",
    "\n",
    "# Get the original band names\n",
    "original_band_names = gewata.band.values\n",
    "\n",
    "# Rename the data variables\n",
    "rename_dict = {original_band_names[i]: band_names[i] for i in range(len(original_band_names))}\n",
    "gewata_ds = gewata_ds.rename(rename_dict)"
   ]
  },
  {
   "cell_type": "code",
   "execution_count": null,
   "metadata": {},
   "outputs": [],
   "source": [
    "# Sanity check, look at the \"data variables\", if the renaming is successful, the data variables will be the same as the band names\n",
    "gewata_ds"
   ]
  },
  {
   "cell_type": "code",
   "execution_count": null,
   "metadata": {},
   "outputs": [],
   "source": [
    "# Convert Dataset back to DataArray\n",
    "gewata = gewata_ds.to_array(dim=\"band\")\n",
    "\n",
    "# The image is cloud-free, so drop the cloud mask layer\n",
    "gewata = gewata.drop_sel(band=\"SCL\")"
   ]
  },
  {
   "cell_type": "code",
   "execution_count": null,
   "metadata": {},
   "outputs": [],
   "source": [
    "# Calculate number of rows and columns for subplots\n",
    "num_bands = len(gewata.band)\n",
    "num_cols = 3  # Adjust the number of columns as desired\n",
    "num_rows = (num_bands + num_cols - 1) // num_cols\n",
    "\n",
    "# Create subplots\n",
    "fig, axes = plt.subplots(\n",
    "    num_rows,\n",
    "    num_cols,\n",
    "    figsize=(15, 3*num_rows),\n",
    "    # sharex=True,\n",
    "    sharey=True\n",
    "    )\n",
    "\n",
    "# Flatten axes if needed\n",
    "axes = axes.flatten()\n",
    "\n",
    "# Plot histograms for each band\n",
    "for i, band in enumerate(gewata):\n",
    "    ax = axes[i]\n",
    "    ax.hist(band.values.ravel(), bins=50)\n",
    "    \n",
    "    # Add a vertical line for the mean\n",
    "    mean_value = band.mean().values\n",
    "    ax.axvline(mean_value, color='r', linestyle='--', label=f'Mean: {mean_value:.2f}')\n",
    "    # ax.legend()\n",
    "    \n",
    "    ax.set_title(f'Histogram of {band.band.values}')\n",
    "    if i % num_cols == 0:\n",
    "        ax.set_ylabel('Frequency')\n",
    "    if i >= num_bands - num_cols:\n",
    "        ax.set_xlabel('Pixel Value')\n",
    "\n",
    "plt.tight_layout()\n",
    "plt.show()"
   ]
  },
  {
   "cell_type": "code",
   "execution_count": null,
   "metadata": {},
   "outputs": [],
   "source": [
    "# Calculate summary statistics for all bands\n",
    "summary_data = []\n",
    "for band in gewata:\n",
    "    summary_data.append({\n",
    "        \"Band\": band.band.values.item(),\n",
    "        \"Mean\": float(band.mean().values),\n",
    "        \"Std Dev\": float(band.std().values),\n",
    "        \"Min\": float(band.min().values),\n",
    "        \"Max\": float(band.max().values)\n",
    "    })\n",
    "\n",
    "# Convert summary data to DataFrame\n",
    "summary_df = pd.DataFrame(summary_data)\n",
    "\n",
    "# Print the summary DataFrame\n",
    "print(\"Summary Statistics for all Bands:\")\n",
    "summary_df"
   ]
  },
  {
   "cell_type": "markdown",
   "metadata": {},
   "source": [
    "Note that the values of these bands have been rescaled by a factor of 10,000. This is done for file storage considerations. For example, a value of 0.5643 stored as a float takes up more disk space than a value of 5643 stored as an integer. If you prefer reflectance values in their original scale (from 0 to 1), this can easily be done using raster algebra or app(). We will do this later."
   ]
  },
  {
   "cell_type": "code",
   "execution_count": null,
   "metadata": {},
   "outputs": [],
   "source": [
    "# convert DataSet into pandas DataFrame\n",
    "gewata_df = gewata_ds.to_dataframe()\n",
    "\n",
    "# from all the raster value, randomly pick 1000 cells from each bands\n",
    "sampled_df = gewata_df.sample(n=1000, random_state=42)\n",
    "sampled_df = sampled_df.drop(columns=['SCL', 'spatial_ref']) # drop unused column for visualization"
   ]
  },
  {
   "cell_type": "code",
   "execution_count": null,
   "metadata": {},
   "outputs": [],
   "source": [
    "# https://stackoverflow.com/questions/63416894/correlation-values-in-pairplot\n",
    "def reg_coef(x,y,label=None,color=None,**kwargs):\n",
    "    ax = plt.gca()\n",
    "    r,p = pearsonr(x,y)\n",
    "    text_color = plt.cm.RdYlBu((r + 1) / 2)  # Map correlation value to color\n",
    "    text_size = abs(r) * 20  # Scale text size based on absolute correlation value\n",
    "    ax.annotate(\n",
    "        'r = {:.2f}'.format(r),\n",
    "        xy=(0.5, 0.5),\n",
    "        xycoords='axes fraction',\n",
    "        ha='center',\n",
    "        # color=text_color,\n",
    "        fontsize=text_size\n",
    "    )\n",
    "    ax.set_axis_off()\n",
    "\n",
    "g = sns.PairGrid(sampled_df)\n",
    "g.map_diag(sns.histplot)\n",
    "g.map_lower(sns.histplot)\n",
    "g.map_upper(reg_coef)"
   ]
  },
  {
   "cell_type": "markdown",
   "metadata": {},
   "source": [
    "## Question 1: Given what we know about the location of these bands along the EM spectrum, how could these scatterplots be explained?"
   ]
  },
  {
   "cell_type": "markdown",
   "metadata": {},
   "source": [
    "<details>\n",
    "<summary>Click to see answer.</summary>\n",
    "\n",
    "These details <em>remain</em> <strong>hidden</strong> until expanded.\n",
    "\n",
    "<pre><code>PASTE LOGS HERE</code></pre>\n",
    "\n",
    "</details>"
   ]
  },
  {
   "cell_type": "code",
   "execution_count": null,
   "metadata": {},
   "outputs": [],
   "source": []
  }
 ],
 "metadata": {
  "kernelspec": {
   "display_name": "geo-env",
   "language": "python",
   "name": "python3"
  },
  "language_info": {
   "name": "python",
   "version": "3.10.13"
  }
 },
 "nbformat": 4,
 "nbformat_minor": 2
}
